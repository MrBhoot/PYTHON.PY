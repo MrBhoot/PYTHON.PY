{
  "nbformat": 4,
  "nbformat_minor": 0,
  "metadata": {
    "colab": {
      "name": "Welcome To Colaboratory",
      "provenance": [],
      "collapsed_sections": [],
      "toc_visible": true,
      "include_colab_link": true
    },
    "kernelspec": {
      "display_name": "Python 3",
      "name": "python3"
    }
  },
  "cells": [
    {
      "cell_type": "markdown",
      "metadata": {
        "id": "view-in-github",
        "colab_type": "text"
      },
      "source": [
        "<a href=\"https://colab.research.google.com/github/MrBhoot/PYTHON.PY/blob/main/Welcome_To_Colaboratory.ipynb\" target=\"_parent\"><img src=\"https://colab.research.google.com/assets/colab-badge.svg\" alt=\"Open In Colab\"/></a>"
      ]
    },
    {
      "cell_type": "markdown",
      "metadata": {
        "id": "k3dvI6VmnpVG"
      },
      "source": [
        "**PYTHON_PROGRAMMING**"
      ]
    },
    {
      "cell_type": "code",
      "metadata": {
        "id": "LbPCC__poCTn",
        "outputId": "e9930978-f250-43db-d62f-038054706d3a",
        "colab": {
          "base_uri": "https://localhost:8080/"
        }
      },
      "source": [
        "learn='                       **welcome to python**                    ';\n",
        "print(learn)\n",
        "\n",
        "                                #String_Built_In_Functions\n",
        "\n",
        "                                      #String_Slicing\n",
        "print(learn[0:6] + learn[6:]) \n",
        "\n",
        "                                        #Left_Slicing\n",
        "\n",
        "print(learn[0:])    \n",
        "                                       #Right_Slicing\n",
        "\n",
        "print(learn[-0:])\n",
        "\n",
        "                                       #UPPER_LETTER\n",
        "\n",
        "upper=learn.upper()\n",
        "print(upper)                  \n",
        "\n",
        "                                       #LOWER_LETTER\n",
        "\n",
        "lower=learn.lower()\n",
        "print(lower)\n",
        "\n",
        "                                       #ISUPPER_DESCISION\n",
        "\n",
        "print(upper.isupper())\n",
        "\n",
        "                                       #islower_descision\n",
        "\n",
        "print(lower.islower())                              \n",
        "\n",
        "                                        #title_function\n",
        "\n",
        "title=learn.title() \n",
        "print(title)        \n",
        "\n",
        "                                        #istitle_descision\n",
        "\n",
        "print(title.istitle())          \n",
        "\n",
        "                                          #COUNT_FUNCTION\n",
        "\n",
        "print(learn.count('o'))  \n",
        "\n",
        "                                          #SPACE_FUNCTION\n",
        "\n",
        "space=('                    L O V E L Y  P A K I S T A N                    ');\n",
        "print(space)\n",
        "\n",
        "                                          #SPACE_REMOVING\n",
        "space=('                    L O V E L Y  P A K I S T A N                    ');                                          \n",
        "print(space.strip())                         \n",
        "\n",
        "                                        #LEFT_SPACE_REMOVING\n",
        "\n",
        "print(space.lstrip())\n",
        "\n",
        "                                        #RIGHT_SPACE_REMOVING\n",
        "\n",
        "print(space.rstrip())      \n",
        "\n",
        "                                              #NUMERIC\n",
        "digit='69'\n",
        "print(digit.isdecimal())\n",
        "\n",
        "                                            #ALPHABETICAL\n",
        "\n",
        "alphabets='MRBHOOT'\n",
        "print(alphabets.isalpha())\n",
        "\n",
        "                                            #ISALPHANUMERC\n",
        "\n",
        "alphanumeric='MRBHOOT09'\n",
        "print(alphanumeric.isalnum())\n",
        "\n",
        "                                              #CENTER_FUNCYION\n",
        "\n",
        "print(learn.center(100))\n",
        "\n",
        "                                              #FIND_FUNCTION\n",
        "\n",
        "print(learn.find('o'))\n",
        "\n",
        "                                              #REPLACEMENT\n",
        "\n",
        "print(learn.replace('python','My Lab'))"
      ],
      "execution_count": 72,
      "outputs": [
        {
          "output_type": "stream",
          "text": [
            "                       **welcome to python**                    \n",
            "                       **welcome to python**                    \n",
            "                       **welcome to python**                    \n",
            "                       **welcome to python**                    \n",
            "                       **WELCOME TO PYTHON**                    \n",
            "                       **welcome to python**                    \n",
            "True\n",
            "True\n",
            "                       **Welcome To Python**                    \n",
            "True\n",
            "3\n",
            "                    L O V E L Y  P A K I S T A N                    \n",
            "L O V E L Y  P A K I S T A N\n",
            "L O V E L Y  P A K I S T A N                    \n",
            "                    L O V E L Y  P A K I S T A N\n",
            "True\n",
            "True\n",
            "True\n",
            "                                         **welcome to python**                                      \n",
            "29\n",
            "                       **welcome to My Lab**                    \n"
          ],
          "name": "stdout"
        }
      ]
    }
  ]
}